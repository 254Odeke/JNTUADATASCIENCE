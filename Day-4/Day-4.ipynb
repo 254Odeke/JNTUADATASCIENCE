{
 "cells": [
  {
   "cell_type": "markdown",
   "metadata": {},
   "source": [
    "### Looping in python:\n",
    "\n",
    "* Iterating the elements defined number of times.\n",
    "* There are two methods for iterating the elements in python:\n",
    "    * for\n",
    "    * While\n",
    "    "
   ]
  },
  {
   "cell_type": "markdown",
   "metadata": {},
   "source": [
    "### For loop:\n",
    "\n",
    "* Looping in for loop can be done in two ways.\n",
    "    * Using range function\n",
    "    * Directly accessing the elements.\n"
   ]
  },
  {
   "cell_type": "code",
   "execution_count": 1,
   "metadata": {},
   "outputs": [
    {
     "name": "stdout",
     "output_type": "stream",
     "text": [
      "1 2 3 4 5 6 7 8 9 "
     ]
    }
   ],
   "source": [
    "## Iterating 1 to 10 numbers using for loop:\n",
    "\n",
    "for i in range(1,10):\n",
    "    print(i,end = \" \")"
   ]
  },
  {
   "cell_type": "code",
   "execution_count": 2,
   "metadata": {},
   "outputs": [
    {
     "name": "stdout",
     "output_type": "stream",
     "text": [
      "20  -  400\n",
      "21  -  441\n",
      "22  -  484\n",
      "23  -  529\n",
      "24  -  576\n",
      "25  -  625\n",
      "26  -  676\n",
      "27  -  729\n",
      "28  -  784\n",
      "29  -  841\n",
      "30  -  900\n",
      "31  -  961\n",
      "32  -  1024\n",
      "33  -  1089\n",
      "34  -  1156\n",
      "35  -  1225\n",
      "36  -  1296\n",
      "37  -  1369\n",
      "38  -  1444\n",
      "39  -  1521\n",
      "40  -  1600\n",
      "41  -  1681\n",
      "42  -  1764\n",
      "43  -  1849\n",
      "44  -  1936\n",
      "45  -  2025\n",
      "46  -  2116\n",
      "47  -  2209\n",
      "48  -  2304\n",
      "49  -  2401\n",
      "50  -  2500\n",
      "51  -  2601\n",
      "52  -  2704\n",
      "53  -  2809\n",
      "54  -  2916\n",
      "55  -  3025\n",
      "56  -  3136\n",
      "57  -  3249\n",
      "58  -  3364\n",
      "59  -  3481\n",
      "60  -  3600\n",
      "61  -  3721\n",
      "62  -  3844\n",
      "63  -  3969\n",
      "64  -  4096\n",
      "65  -  4225\n",
      "66  -  4356\n",
      "67  -  4489\n",
      "68  -  4624\n",
      "69  -  4761\n",
      "70  -  4900\n",
      "71  -  5041\n",
      "72  -  5184\n",
      "73  -  5329\n",
      "74  -  5476\n",
      "75  -  5625\n",
      "76  -  5776\n",
      "77  -  5929\n",
      "78  -  6084\n",
      "79  -  6241\n",
      "80  -  6400\n",
      "81  -  6561\n",
      "82  -  6724\n",
      "83  -  6889\n",
      "84  -  7056\n",
      "85  -  7225\n",
      "86  -  7396\n",
      "87  -  7569\n",
      "88  -  7744\n",
      "89  -  7921\n",
      "90  -  8100\n",
      "91  -  8281\n",
      "92  -  8464\n",
      "93  -  8649\n",
      "94  -  8836\n",
      "95  -  9025\n",
      "96  -  9216\n",
      "97  -  9409\n",
      "98  -  9604\n",
      "99  -  9801\n",
      "100  -  10000\n"
     ]
    }
   ],
   "source": [
    "for i in range(20,101):\n",
    "    print(i,\" - \",i**2) "
   ]
  },
  {
   "cell_type": "code",
   "execution_count": 3,
   "metadata": {},
   "outputs": [
    {
     "name": "stdout",
     "output_type": "stream",
     "text": [
      "p y t h o n   p r o g r a m m i n g "
     ]
    }
   ],
   "source": [
    "s = \"python programming\"\n",
    "for i in s:\n",
    "    print(i,end = \" \")"
   ]
  },
  {
   "cell_type": "code",
   "execution_count": 4,
   "metadata": {},
   "outputs": [
    {
     "data": {
      "text/plain": [
       "18"
      ]
     },
     "execution_count": 4,
     "metadata": {},
     "output_type": "execute_result"
    }
   ],
   "source": [
    "len(s)"
   ]
  },
  {
   "cell_type": "code",
   "execution_count": 5,
   "metadata": {},
   "outputs": [
    {
     "name": "stdout",
     "output_type": "stream",
     "text": [
      "p y t h o n   p r o g r a m m i n g "
     ]
    }
   ],
   "source": [
    "for i in range(len(s)):\n",
    "    print(s[i],end = \" \")"
   ]
  },
  {
   "cell_type": "code",
   "execution_count": 6,
   "metadata": {},
   "outputs": [
    {
     "name": "stdout",
     "output_type": "stream",
     "text": [
      "2 4 6 8 10 12 14 16 18 "
     ]
    }
   ],
   "source": [
    "for i in range(2,20,2):\n",
    "    print(i,end = \" \")\n",
    "    "
   ]
  },
  {
   "cell_type": "code",
   "execution_count": 7,
   "metadata": {},
   "outputs": [
    {
     "name": "stdout",
     "output_type": "stream",
     "text": [
      "1 3 5 7 9 11 13 15 17 19 "
     ]
    }
   ],
   "source": [
    "for i in range(1,20,2):\n",
    "    print(i,end = \" \")"
   ]
  },
  {
   "cell_type": "code",
   "execution_count": 8,
   "metadata": {},
   "outputs": [
    {
     "data": {
      "text/plain": [
       "'python programming'"
      ]
     },
     "execution_count": 8,
     "metadata": {},
     "output_type": "execute_result"
    }
   ],
   "source": [
    "s "
   ]
  },
  {
   "cell_type": "code",
   "execution_count": 9,
   "metadata": {},
   "outputs": [
    {
     "name": "stdout",
     "output_type": "stream",
     "text": [
      "p y t h o n "
     ]
    }
   ],
   "source": [
    "for i in range(0,6):\n",
    "    print(s[i],end = \" \")"
   ]
  },
  {
   "cell_type": "code",
   "execution_count": 10,
   "metadata": {},
   "outputs": [
    {
     "name": "stdout",
     "output_type": "stream",
     "text": [
      "2\n"
     ]
    }
   ],
   "source": [
    "### pass keyword with for loop:\n",
    "\n",
    "for i in range(1,10):\n",
    "    if i == 2:\n",
    "        pass\n",
    "        print(i)"
   ]
  },
  {
   "cell_type": "code",
   "execution_count": 11,
   "metadata": {},
   "outputs": [],
   "source": [
    "for i in range(1,10):\n",
    "    pass"
   ]
  },
  {
   "cell_type": "code",
   "execution_count": 12,
   "metadata": {},
   "outputs": [
    {
     "name": "stdout",
     "output_type": "stream",
     "text": [
      "1\n",
      "2\n"
     ]
    }
   ],
   "source": [
    "### break with for loop:\n",
    "\n",
    "for i in range(1,10):\n",
    "    if i == 3:\n",
    "        break\n",
    "    print(i)\n",
    "        "
   ]
  },
  {
   "cell_type": "code",
   "execution_count": 13,
   "metadata": {},
   "outputs": [
    {
     "name": "stdout",
     "output_type": "stream",
     "text": [
      "1\n",
      "2\n",
      "4\n",
      "5\n",
      "6\n",
      "7\n",
      "8\n",
      "9\n"
     ]
    }
   ],
   "source": [
    "### continue with for loop:\n",
    "\n",
    "for i in range(1,10):\n",
    "    if i == 3:\n",
    "        continue\n",
    "    print(i)"
   ]
  },
  {
   "cell_type": "markdown",
   "metadata": {},
   "source": [
    "### While loop:\n",
    "\n",
    "* While loop iterates the statements until the condition is True.\n",
    "\n"
   ]
  },
  {
   "cell_type": "code",
   "execution_count": 14,
   "metadata": {},
   "outputs": [
    {
     "name": "stdout",
     "output_type": "stream",
     "text": [
      "1 2 3 4 5 6 7 8 9 "
     ]
    }
   ],
   "source": [
    "a = 1\n",
    "while a < 10:\n",
    "    print(a,end = \" \")\n",
    "    a += 1"
   ]
  },
  {
   "cell_type": "code",
   "execution_count": 15,
   "metadata": {},
   "outputs": [
    {
     "name": "stdout",
     "output_type": "stream",
     "text": [
      "1 4 9 16 25 36 49 64 81 "
     ]
    }
   ],
   "source": [
    "a = 1\n",
    "while a < 10:\n",
    "    print(a * a,end = \" \")\n",
    "    a +=1"
   ]
  },
  {
   "cell_type": "code",
   "execution_count": null,
   "metadata": {},
   "outputs": [],
   "source": [
    "### while loop with pass statement:\n",
    "\n",
    "a = 1\n",
    "while a < 10:\n",
    "    if a == 3:\n",
    "        pass\n",
    "       \n",
    "    \n",
    "    \n",
    "    "
   ]
  },
  {
   "cell_type": "code",
   "execution_count": 22,
   "metadata": {},
   "outputs": [
    {
     "name": "stdout",
     "output_type": "stream",
     "text": [
      "1\n",
      "2\n"
     ]
    }
   ],
   "source": [
    "### while loop with break :\n",
    "\n",
    "a = 1\n",
    "while a < 10:\n",
    "    if a == 3:\n",
    "        break\n",
    "    print(a)\n",
    "    a += 1"
   ]
  },
  {
   "cell_type": "code",
   "execution_count": null,
   "metadata": {},
   "outputs": [
    {
     "name": "stdout",
     "output_type": "stream",
     "text": [
      "1\n",
      "2\n"
     ]
    }
   ],
   "source": [
    "### while loop with continue:\n",
    "\n",
    "a = 1\n",
    "while a < 10:\n",
    "    if a == 3:\n",
    "        continue\n",
    "    print(a)\n",
    "    a += 1"
   ]
  },
  {
   "cell_type": "markdown",
   "metadata": {},
   "source": [
    "### Conditional Statements:\n",
    "\n",
    "* There are four conditional statements in python\n",
    "    * if \n",
    "    * elif\n",
    "    * else\n",
    "    * Nested if\n"
   ]
  },
  {
   "cell_type": "code",
   "execution_count": 3,
   "metadata": {},
   "outputs": [
    {
     "name": "stdout",
     "output_type": "stream",
     "text": [
      "a is smallerr\n"
     ]
    }
   ],
   "source": [
    "### If:\n",
    "\n",
    "a = 10\n",
    "b = 20\n",
    "\n",
    "if a < b:\n",
    "    print(\"a is smaller\")\n"
   ]
  },
  {
   "cell_type": "code",
   "execution_count": 4,
   "metadata": {},
   "outputs": [
    {
     "name": "stdout",
     "output_type": "stream",
     "text": [
      "b is greater\n"
     ]
    }
   ],
   "source": [
    "### if and else:\n",
    "\n",
    "if a > b:\n",
    "    print(\"a is greater\")\n",
    "else:\n",
    "    print(\"b is greater\")"
   ]
  },
  {
   "cell_type": "code",
   "execution_count": 5,
   "metadata": {},
   "outputs": [
    {
     "name": "stdout",
     "output_type": "stream",
     "text": [
      "a is smaller\n"
     ]
    }
   ],
   "source": [
    "### elif:\n",
    "\n",
    "a = 10\n",
    "b = 20\n",
    "c = 30\n",
    "if a < b < c :\n",
    "    print(\"a is smaller\")\n",
    "elif b < c < a:\n",
    "    print(\"b is smaller\")\n",
    "else:\n",
    "    print(\"c is smaller\")"
   ]
  },
  {
   "cell_type": "code",
   "execution_count": 8,
   "metadata": {},
   "outputs": [
    {
     "name": "stdout",
     "output_type": "stream",
     "text": [
      "a is smaller\n"
     ]
    }
   ],
   "source": [
    "### smaller number from the four elements:\n",
    "\n",
    "a,b,c,d = 10,20,30,12\n",
    "if a < b or a < c or a < d :\n",
    "    print(\"a is smaller\")\n",
    "elif b < a or b < c or b < d :\n",
    "    print(\"b is smaller\")\n",
    "elif c < a or c < b or c < d:\n",
    "    print(\"c is smaller\")\n",
    "else:\n",
    "    print(\"d is smaller\")"
   ]
  },
  {
   "cell_type": "code",
   "execution_count": 9,
   "metadata": {},
   "outputs": [
    {
     "name": "stdout",
     "output_type": "stream",
     "text": [
      "a is smaller\n"
     ]
    }
   ],
   "source": [
    "\n",
    "a,b,c,d = 10,20,30,12\n",
    "if a < b and a < c and a < d :\n",
    "    print(\"a is smaller\")\n",
    "elif b < a and b < c and b < d :\n",
    "    print(\"b is smaller\")\n",
    "elif c < a and c < b and c < d:\n",
    "    print(\"c is smaller\")\n",
    "else:\n",
    "    print(\"d is smaller\")"
   ]
  },
  {
   "cell_type": "code",
   "execution_count": 40,
   "metadata": {},
   "outputs": [
    {
     "name": "stdout",
     "output_type": "stream",
     "text": [
      "Fail\n"
     ]
    }
   ],
   "source": [
    "### nested if :\n",
    "\n",
    "a = 40\n",
    "b = 27\n",
    "c = 50\n",
    "d = 36\n",
    "\n",
    "if a>=36 and b>=36 and c>=36 and d>=36:\n",
    "     print(\"pass\")\n",
    "else:\n",
    "    print(\"Fail\")"
   ]
  },
  {
   "cell_type": "code",
   "execution_count": 46,
   "metadata": {},
   "outputs": [
    {
     "name": "stdout",
     "output_type": "stream",
     "text": [
      "fail\n"
     ]
    }
   ],
   "source": [
    "if a>=36:\n",
    "    if b>=36:\n",
    "        if c>=36:\n",
    "            if d>=36:\n",
    "                print('pass')\n",
    "    else:\n",
    "        print('fail')\n"
   ]
  },
  {
   "cell_type": "code",
   "execution_count": 42,
   "metadata": {},
   "outputs": [
    {
     "name": "stdout",
     "output_type": "stream",
     "text": [
      "fail\n"
     ]
    }
   ],
   "source": [
    "if a>=36:\n",
    "    if b>=36:\n",
    "        if c>=36:\n",
    "            if d>=36:\n",
    "                print(\"pass\")\n",
    "            else:\n",
    "                print(\"fail\")\n",
    "        \n",
    "        else:\n",
    "            print(\"fail\")\n",
    "\n",
    "    else:\n",
    "        print(\"fail\")\n",
    "else:\n",
    "    print(\"fail\")\n",
    "    \n"
   ]
  },
  {
   "cell_type": "code",
   "execution_count": 47,
   "metadata": {},
   "outputs": [
    {
     "name": "stdout",
     "output_type": "stream",
     "text": [
      "20 22 24 26 28 30 32 34 36 38 40 42 44 46 48 50 52 54 56 58 60 62 64 66 68 70 72 74 76 78 80 82 84 86 88 90 92 94 96 98 "
     ]
    }
   ],
   "source": [
    "### Write a program for finding the even numbers:\n",
    "\n",
    "for i in range(20,100):\n",
    "    if i % 2 == 0:\n",
    "        print(i,end = \" \")"
   ]
  },
  {
   "cell_type": "code",
   "execution_count": 49,
   "metadata": {},
   "outputs": [
    {
     "name": "stdout",
     "output_type": "stream",
     "text": [
      "Enter the number:37468281\n",
      "37468281  is odd number\n"
     ]
    }
   ],
   "source": [
    "a = int(input(\"Enter the number:\"))\n",
    "if a % 2 == 0:\n",
    "    print(a,\" is even number\")\n",
    "else:\n",
    "    print(a,\" is odd number\")"
   ]
  },
  {
   "cell_type": "code",
   "execution_count": 69,
   "metadata": {},
   "outputs": [
    {
     "name": "stdout",
     "output_type": "stream",
     "text": [
      "0\n",
      "1\n",
      "2\n",
      "3\n",
      "5\n"
     ]
    }
   ],
   "source": [
    "### fibanocci series --- 1 1 2 3 5 8 13 21\n",
    "n=5\n",
    "a=0\n",
    "b=1\n",
    "print(a)\n",
    "for i in range(n-1):\n",
    "    c=a+b\n",
    "    a=b\n",
    "    b=c\n",
    "    print(c)\n",
    "\n"
   ]
  },
  {
   "cell_type": "code",
   "execution_count": 68,
   "metadata": {},
   "outputs": [
    {
     "name": "stdout",
     "output_type": "stream",
     "text": [
      "10\n",
      "1 1 2 3 5 8 13 21 34 55 "
     ]
    }
   ],
   "source": [
    "n = int(input())\n",
    "count = 0\n",
    "a = 1\n",
    "while(n != 0):\n",
    "    print(a,end = \" \")\n",
    "    c = a + b\n",
    "    a = b\n",
    "    b = c\n",
    "    #print(c,end = \" \")\n",
    "    n = n - 1\n",
    "    \n"
   ]
  },
  {
   "cell_type": "code",
   "execution_count": 70,
   "metadata": {},
   "outputs": [
    {
     "name": "stdout",
     "output_type": "stream",
     "text": [
      "10\n",
      "1 1 2 3 5 8 13 21 34 55 89 144 "
     ]
    }
   ],
   "source": [
    "n=int(input())\n",
    "a=1\n",
    "b=1\n",
    "print(a,b, end=\" \")\n",
    "while(n!=0):\n",
    "    c=a+b\n",
    "    print(c, end=\" \")\n",
    "    a=b\n",
    "    b=c\n",
    "    n=n-1\n"
   ]
  },
  {
   "cell_type": "code",
   "execution_count": 72,
   "metadata": {},
   "outputs": [
    {
     "name": "stdout",
     "output_type": "stream",
     "text": [
      "Enter maximum number : 50\n",
      "0 1 1 2 3 5 8 13 21 34 "
     ]
    }
   ],
   "source": [
    "n = int(input(\"Enter maximum number : \"))\n",
    "a = 0\n",
    "b = 1\n",
    "c = 1\n",
    "print(\"0\",end=\" \")\n",
    "while(c <= n): \n",
    "    print(c,end=\" \")\n",
    "    c = a + b\n",
    "    a = b\n",
    "    b = c\n",
    "    "
   ]
  },
  {
   "cell_type": "markdown",
   "metadata": {},
   "source": [
    "### task:\n",
    "\n",
    "* Write a program to find the factorial of a given number.\n",
    "* Write a program to find the prime numbers within the given range.\n",
    "* Write a program to find given year is leap year or not.\n",
    "* Write a program to find given number is Amstrong number or not.\n",
    "\n",
    "\n",
    "\n",
    "\n"
   ]
  },
  {
   "cell_type": "code",
   "execution_count": null,
   "metadata": {},
   "outputs": [],
   "source": []
  }
 ],
 "metadata": {
  "kernelspec": {
   "display_name": "Python 3",
   "language": "python",
   "name": "python3"
  },
  "language_info": {
   "codemirror_mode": {
    "name": "ipython",
    "version": 3
   },
   "file_extension": ".py",
   "mimetype": "text/x-python",
   "name": "python",
   "nbconvert_exporter": "python",
   "pygments_lexer": "ipython3",
   "version": "3.7.3"
  }
 },
 "nbformat": 4,
 "nbformat_minor": 2
}
