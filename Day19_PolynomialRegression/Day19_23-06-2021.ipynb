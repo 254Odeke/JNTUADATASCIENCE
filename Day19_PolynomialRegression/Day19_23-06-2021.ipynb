{
 "cells": [
  {
   "cell_type": "markdown",
   "metadata": {},
   "source": [
    "![](pic.png)\n",
    "\n",
    "# Day Objectives \n",
    "\n",
    "## Polynomial Regression\n",
    "\n",
    "- **Linear Regression with Multiple Variables**\n",
    "    \n",
    "\n",
    "$$ Y = M*X + C$$\n",
    "\n",
    "$$ Y = M_1 * X_1 + M_2 * X_2 + M_3 * X_3 + ........... M_n * X_n + C $$\n",
    "- Train/Test splitting of data\n",
    "- Under fitting, Overfitting, Best fit\n",
    "- Polynomial Features\n",
    "- Non-Linear Regression with One variable\n",
    "- Non-Linear Regression with Multiple Variable"
   ]
  },
  {
   "cell_type": "markdown",
   "metadata": {},
   "source": [
    "####  [Co2 Fuel Consumption](https://raw.githubusercontent.com/AP-State-Skill-Development-Corporation/Datasets/master/Regression/FuelConsumptionCo2.csv)\n",
    "\n",
    "####  [China GDP](https://raw.githubusercontent.com/AP-State-Skill-Development-Corporation/Datasets/master/Regression/china_gdp.csv)"
   ]
  },
  {
   "cell_type": "markdown",
   "metadata": {},
   "source": [
    "### Polynomial Features\n",
    "Polynomial provides the best approximation of the relationship between the dependent and independent variable. A Broad range of function can be fit under it. Polynomial basically fits a wide range of curvature.\n",
    "\n",
    "[LINK](https://towardsdatascience.com/introduction-to-linear-regression-and-polynomial-regression-f8adc96f31cb)"
   ]
  },
  {
   "cell_type": "markdown",
   "metadata": {},
   "source": [
    "**Advantages of using Polynomial Regression:**\n",
    "\n",
    "- Polynomial provides the best approximation of the relationship between the dependent and independent variable.\n",
    "- A Broad range of function can be fit under it.\n",
    "- Polynomial basically fits a wide range of curvature.\n",
    "\n",
    "**Disadvantages:**\n",
    "\n",
    "- The presence of one or two outliers in the data can seriously affect the results of the nonlinear analysis.\n",
    "- These are too sensitive to the outliers.\n",
    "- In addition, there are unfortunately fewer model validation tools for the detection of outliers in nonlinear regression than there are for linear regression."
   ]
  },
  {
   "cell_type": "code",
   "execution_count": null,
   "metadata": {},
   "outputs": [],
   "source": []
  }
 ],
 "metadata": {
  "kernelspec": {
   "display_name": "Python 3",
   "language": "python",
   "name": "python3"
  },
  "language_info": {
   "codemirror_mode": {
    "name": "ipython",
    "version": 3
   },
   "file_extension": ".py",
   "mimetype": "text/x-python",
   "name": "python",
   "nbconvert_exporter": "python",
   "pygments_lexer": "ipython3",
   "version": "3.8.3"
  }
 },
 "nbformat": 4,
 "nbformat_minor": 4
}
