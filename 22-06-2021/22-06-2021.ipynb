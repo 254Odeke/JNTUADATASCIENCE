{
 "cells": [
  {
   "cell_type": "markdown",
   "metadata": {},
   "source": [
    "### Supervised Learning\n",
    "1. Regression Models\n",
    "2. Classification Models"
   ]
  },
  {
   "cell_type": "markdown",
   "metadata": {},
   "source": [
    "#### Scikit Learn\n",
    "- Scikit Learn is one of the important library in python, it plays a key role in machine learning.\n",
    "- Scikit learn contains Built-In machine learning algorithms, preprocessing algorithms, etc,..\n",
    "- https://scikit-learn.org/stable/"
   ]
  },
  {
   "cell_type": "markdown",
   "metadata": {},
   "source": [
    "### Regression Models"
   ]
  },
  {
   "cell_type": "code",
   "execution_count": null,
   "metadata": {},
   "outputs": [],
   "source": []
  },
  {
   "cell_type": "code",
   "execution_count": 1,
   "metadata": {},
   "outputs": [],
   "source": [
    "import numpy as np\n",
    "import pandas as pd\n",
    "import matplotlib.pyplot as plt"
   ]
  },
  {
   "cell_type": "code",
   "execution_count": 2,
   "metadata": {},
   "outputs": [
    {
     "data": {
      "text/html": [
       "<div>\n",
       "<style scoped>\n",
       "    .dataframe tbody tr th:only-of-type {\n",
       "        vertical-align: middle;\n",
       "    }\n",
       "\n",
       "    .dataframe tbody tr th {\n",
       "        vertical-align: top;\n",
       "    }\n",
       "\n",
       "    .dataframe thead th {\n",
       "        text-align: right;\n",
       "    }\n",
       "</style>\n",
       "<table border=\"1\" class=\"dataframe\">\n",
       "  <thead>\n",
       "    <tr style=\"text-align: right;\">\n",
       "      <th></th>\n",
       "      <th>HeadSize</th>\n",
       "      <th>BrainWeight</th>\n",
       "    </tr>\n",
       "  </thead>\n",
       "  <tbody>\n",
       "    <tr>\n",
       "      <th>0</th>\n",
       "      <td>1</td>\n",
       "      <td>3.0</td>\n",
       "    </tr>\n",
       "    <tr>\n",
       "      <th>1</th>\n",
       "      <td>2</td>\n",
       "      <td>4.0</td>\n",
       "    </tr>\n",
       "    <tr>\n",
       "      <th>2</th>\n",
       "      <td>3</td>\n",
       "      <td>4.8</td>\n",
       "    </tr>\n",
       "    <tr>\n",
       "      <th>3</th>\n",
       "      <td>4</td>\n",
       "      <td>7.0</td>\n",
       "    </tr>\n",
       "    <tr>\n",
       "      <th>4</th>\n",
       "      <td>5</td>\n",
       "      <td>8.9</td>\n",
       "    </tr>\n",
       "  </tbody>\n",
       "</table>\n",
       "</div>"
      ],
      "text/plain": [
       "   HeadSize  BrainWeight\n",
       "0         1          3.0\n",
       "1         2          4.0\n",
       "2         3          4.8\n",
       "3         4          7.0\n",
       "4         5          8.9"
      ]
     },
     "execution_count": 2,
     "metadata": {},
     "output_type": "execute_result"
    }
   ],
   "source": [
    "df = pd.DataFrame({'HeadSize':[1,2,3,4,5],\n",
    "                   'BrainWeight':[3,4,4.8,7,8.9]})\n",
    "df"
   ]
  },
  {
   "cell_type": "code",
   "execution_count": 3,
   "metadata": {},
   "outputs": [
    {
     "data": {
      "text/plain": [
       "(5, 2)"
      ]
     },
     "execution_count": 3,
     "metadata": {},
     "output_type": "execute_result"
    }
   ],
   "source": [
    "df.shape"
   ]
  },
  {
   "cell_type": "code",
   "execution_count": 4,
   "metadata": {
    "collapsed": true
   },
   "outputs": [
    {
     "data": {
      "text/html": [
       "<div>\n",
       "<style scoped>\n",
       "    .dataframe tbody tr th:only-of-type {\n",
       "        vertical-align: middle;\n",
       "    }\n",
       "\n",
       "    .dataframe tbody tr th {\n",
       "        vertical-align: top;\n",
       "    }\n",
       "\n",
       "    .dataframe thead th {\n",
       "        text-align: right;\n",
       "    }\n",
       "</style>\n",
       "<table border=\"1\" class=\"dataframe\">\n",
       "  <thead>\n",
       "    <tr style=\"text-align: right;\">\n",
       "      <th></th>\n",
       "      <th>HeadSize</th>\n",
       "      <th>BrainWeight</th>\n",
       "    </tr>\n",
       "  </thead>\n",
       "  <tbody>\n",
       "    <tr>\n",
       "      <th>count</th>\n",
       "      <td>5.000000</td>\n",
       "      <td>5.000000</td>\n",
       "    </tr>\n",
       "    <tr>\n",
       "      <th>mean</th>\n",
       "      <td>3.000000</td>\n",
       "      <td>5.540000</td>\n",
       "    </tr>\n",
       "    <tr>\n",
       "      <th>std</th>\n",
       "      <td>1.581139</td>\n",
       "      <td>2.387048</td>\n",
       "    </tr>\n",
       "    <tr>\n",
       "      <th>min</th>\n",
       "      <td>1.000000</td>\n",
       "      <td>3.000000</td>\n",
       "    </tr>\n",
       "    <tr>\n",
       "      <th>25%</th>\n",
       "      <td>2.000000</td>\n",
       "      <td>4.000000</td>\n",
       "    </tr>\n",
       "    <tr>\n",
       "      <th>50%</th>\n",
       "      <td>3.000000</td>\n",
       "      <td>4.800000</td>\n",
       "    </tr>\n",
       "    <tr>\n",
       "      <th>75%</th>\n",
       "      <td>4.000000</td>\n",
       "      <td>7.000000</td>\n",
       "    </tr>\n",
       "    <tr>\n",
       "      <th>max</th>\n",
       "      <td>5.000000</td>\n",
       "      <td>8.900000</td>\n",
       "    </tr>\n",
       "  </tbody>\n",
       "</table>\n",
       "</div>"
      ],
      "text/plain": [
       "       HeadSize  BrainWeight\n",
       "count  5.000000     5.000000\n",
       "mean   3.000000     5.540000\n",
       "std    1.581139     2.387048\n",
       "min    1.000000     3.000000\n",
       "25%    2.000000     4.000000\n",
       "50%    3.000000     4.800000\n",
       "75%    4.000000     7.000000\n",
       "max    5.000000     8.900000"
      ]
     },
     "execution_count": 4,
     "metadata": {},
     "output_type": "execute_result"
    }
   ],
   "source": [
    "df.describe()"
   ]
  },
  {
   "cell_type": "code",
   "execution_count": 7,
   "metadata": {},
   "outputs": [],
   "source": [
    "X = df['HeadSize'] # Input\n",
    "Y = df['BrainWeight'] # Taget"
   ]
  },
  {
   "cell_type": "markdown",
   "metadata": {},
   "source": [
    "### Linear Regression Model\n",
    "\n",
    "#### Line Equation Formula\n",
    "- Y  = m * X + C\n",
    "- Y = b0 + b1 * X\n",
    "    - b0 is an Y-Intercept\n",
    "    - b1 is Slope"
   ]
  },
  {
   "cell_type": "markdown",
   "metadata": {},
   "source": [
    "### Slope Formula (b1)"
   ]
  },
  {
   "cell_type": "code",
   "execution_count": 6,
   "metadata": {},
   "outputs": [],
   "source": [
    "##          (Xi - mean(X)) * (Yi - mean(Y))\n",
    "##  b1 = -------------------------------------\n",
    "##              (Xi - mean(X))**2"
   ]
  },
  {
   "cell_type": "code",
   "execution_count": 11,
   "metadata": {},
   "outputs": [],
   "source": [
    "n = len(X)\n",
    "x_mean = np.mean(X)\n",
    "y_mean = np.mean(Y)"
   ]
  },
  {
   "cell_type": "code",
   "execution_count": 12,
   "metadata": {},
   "outputs": [],
   "source": [
    "numerator = 0\n",
    "denominator = 0\n",
    "for i in range(n):\n",
    "    numerator = numerator + (X[i] - x_mean) * (Y[i] - y_mean)\n",
    "    denominator = denominator + (X[i] - x_mean)**2\n",
    "    \n",
    "b1 = numerator / denominator"
   ]
  },
  {
   "cell_type": "code",
   "execution_count": 13,
   "metadata": {},
   "outputs": [
    {
     "name": "stdout",
     "output_type": "stream",
     "text": [
      "1.48\n"
     ]
    }
   ],
   "source": [
    "print(b1) ## Slope = 1.48"
   ]
  },
  {
   "cell_type": "markdown",
   "metadata": {},
   "source": [
    "### Y - Intercept (b0)\n",
    "- b0 = mean(Y) - (b1 * mean(X))"
   ]
  },
  {
   "cell_type": "code",
   "execution_count": 14,
   "metadata": {},
   "outputs": [],
   "source": [
    "b0 = y_mean - (b1 * x_mean)"
   ]
  },
  {
   "cell_type": "code",
   "execution_count": 15,
   "metadata": {},
   "outputs": [
    {
     "name": "stdout",
     "output_type": "stream",
     "text": [
      "1.1000000000000014\n"
     ]
    }
   ],
   "source": [
    "print(b0)"
   ]
  },
  {
   "cell_type": "code",
   "execution_count": 16,
   "metadata": {},
   "outputs": [
    {
     "name": "stdout",
     "output_type": "stream",
     "text": [
      "2.5800000000000014\n",
      "4.060000000000001\n",
      "5.540000000000001\n",
      "7.020000000000001\n",
      "8.500000000000002\n"
     ]
    }
   ],
   "source": [
    "### predict the values\n",
    "\n",
    "for i in range(n):\n",
    "    y_prediction = b0 + b1 * X[i]\n",
    "    print(y_prediction)"
   ]
  },
  {
   "cell_type": "markdown",
   "metadata": {},
   "source": [
    "### Apply Linear Regression Model"
   ]
  },
  {
   "cell_type": "code",
   "execution_count": 17,
   "metadata": {},
   "outputs": [
    {
     "data": {
      "text/html": [
       "<div>\n",
       "<style scoped>\n",
       "    .dataframe tbody tr th:only-of-type {\n",
       "        vertical-align: middle;\n",
       "    }\n",
       "\n",
       "    .dataframe tbody tr th {\n",
       "        vertical-align: top;\n",
       "    }\n",
       "\n",
       "    .dataframe thead th {\n",
       "        text-align: right;\n",
       "    }\n",
       "</style>\n",
       "<table border=\"1\" class=\"dataframe\">\n",
       "  <thead>\n",
       "    <tr style=\"text-align: right;\">\n",
       "      <th></th>\n",
       "      <th>HeadSize</th>\n",
       "      <th>BrainWeight</th>\n",
       "    </tr>\n",
       "  </thead>\n",
       "  <tbody>\n",
       "    <tr>\n",
       "      <th>0</th>\n",
       "      <td>1</td>\n",
       "      <td>3.0</td>\n",
       "    </tr>\n",
       "    <tr>\n",
       "      <th>1</th>\n",
       "      <td>2</td>\n",
       "      <td>4.0</td>\n",
       "    </tr>\n",
       "    <tr>\n",
       "      <th>2</th>\n",
       "      <td>3</td>\n",
       "      <td>4.8</td>\n",
       "    </tr>\n",
       "    <tr>\n",
       "      <th>3</th>\n",
       "      <td>4</td>\n",
       "      <td>7.0</td>\n",
       "    </tr>\n",
       "    <tr>\n",
       "      <th>4</th>\n",
       "      <td>5</td>\n",
       "      <td>8.9</td>\n",
       "    </tr>\n",
       "  </tbody>\n",
       "</table>\n",
       "</div>"
      ],
      "text/plain": [
       "   HeadSize  BrainWeight\n",
       "0         1          3.0\n",
       "1         2          4.0\n",
       "2         3          4.8\n",
       "3         4          7.0\n",
       "4         5          8.9"
      ]
     },
     "execution_count": 17,
     "metadata": {},
     "output_type": "execute_result"
    }
   ],
   "source": [
    "df"
   ]
  },
  {
   "cell_type": "code",
   "execution_count": 35,
   "metadata": {},
   "outputs": [],
   "source": [
    "X1 = df[['HeadSize']].values # Input\n",
    "Y1 = df[['BrainWeight']].values # Target"
   ]
  },
  {
   "cell_type": "code",
   "execution_count": 41,
   "metadata": {
    "collapsed": true
   },
   "outputs": [
    {
     "data": {
      "text/plain": [
       "array([[1],\n",
       "       [2],\n",
       "       [3],\n",
       "       [4],\n",
       "       [5]], dtype=int64)"
      ]
     },
     "execution_count": 41,
     "metadata": {},
     "output_type": "execute_result"
    }
   ],
   "source": [
    "X1"
   ]
  },
  {
   "cell_type": "code",
   "execution_count": 37,
   "metadata": {},
   "outputs": [],
   "source": [
    "## Step1 = Split the data into input and target\n",
    "## Step2 = Import model\n",
    "## Step3 = Split dataset for training and testing\n",
    "## Step4 = Assign model to any object\n",
    "## Step5 = Fit the model\n",
    "## Step6 = Predict the model and find accuracy"
   ]
  },
  {
   "cell_type": "code",
   "execution_count": 38,
   "metadata": {},
   "outputs": [],
   "source": [
    "from sklearn.linear_model import LinearRegression"
   ]
  },
  {
   "cell_type": "code",
   "execution_count": 39,
   "metadata": {},
   "outputs": [],
   "source": [
    "lin_reg = LinearRegression()"
   ]
  },
  {
   "cell_type": "code",
   "execution_count": 40,
   "metadata": {},
   "outputs": [
    {
     "data": {
      "text/plain": [
       "LinearRegression(copy_X=True, fit_intercept=True, n_jobs=None, normalize=False)"
      ]
     },
     "execution_count": 40,
     "metadata": {},
     "output_type": "execute_result"
    }
   ],
   "source": [
    "lin_reg.fit(X1,Y1) # By fitting the model, formula will be applied to our dataset"
   ]
  },
  {
   "cell_type": "code",
   "execution_count": 42,
   "metadata": {},
   "outputs": [
    {
     "data": {
      "text/plain": [
       "array([[2.58],\n",
       "       [4.06],\n",
       "       [5.54],\n",
       "       [7.02],\n",
       "       [8.5 ]])"
      ]
     },
     "execution_count": 42,
     "metadata": {},
     "output_type": "execute_result"
    }
   ],
   "source": [
    "y_prediction2 = lin_reg.predict(X1)\n",
    "y_prediction2"
   ]
  },
  {
   "cell_type": "code",
   "execution_count": 45,
   "metadata": {},
   "outputs": [
    {
     "data": {
      "text/plain": [
       "array([[4.8 ],\n",
       "       [5.54]])"
      ]
     },
     "execution_count": 45,
     "metadata": {},
     "output_type": "execute_result"
    }
   ],
   "source": [
    "lin_reg.predict([[2.5],[3]])"
   ]
  },
  {
   "cell_type": "code",
   "execution_count": null,
   "metadata": {},
   "outputs": [],
   "source": []
  },
  {
   "cell_type": "code",
   "execution_count": null,
   "metadata": {},
   "outputs": [],
   "source": []
  },
  {
   "cell_type": "code",
   "execution_count": 47,
   "metadata": {},
   "outputs": [
    {
     "data": {
      "text/html": [
       "<div>\n",
       "<style scoped>\n",
       "    .dataframe tbody tr th:only-of-type {\n",
       "        vertical-align: middle;\n",
       "    }\n",
       "\n",
       "    .dataframe tbody tr th {\n",
       "        vertical-align: top;\n",
       "    }\n",
       "\n",
       "    .dataframe thead th {\n",
       "        text-align: right;\n",
       "    }\n",
       "</style>\n",
       "<table border=\"1\" class=\"dataframe\">\n",
       "  <thead>\n",
       "    <tr style=\"text-align: right;\">\n",
       "      <th></th>\n",
       "      <th>Gender</th>\n",
       "      <th>Age Range</th>\n",
       "      <th>Head Size(cm^3)</th>\n",
       "      <th>Brain Weight(grams)</th>\n",
       "    </tr>\n",
       "  </thead>\n",
       "  <tbody>\n",
       "    <tr>\n",
       "      <th>0</th>\n",
       "      <td>1</td>\n",
       "      <td>1</td>\n",
       "      <td>4512</td>\n",
       "      <td>1530</td>\n",
       "    </tr>\n",
       "    <tr>\n",
       "      <th>1</th>\n",
       "      <td>1</td>\n",
       "      <td>1</td>\n",
       "      <td>3738</td>\n",
       "      <td>1297</td>\n",
       "    </tr>\n",
       "    <tr>\n",
       "      <th>2</th>\n",
       "      <td>1</td>\n",
       "      <td>1</td>\n",
       "      <td>4261</td>\n",
       "      <td>1335</td>\n",
       "    </tr>\n",
       "    <tr>\n",
       "      <th>3</th>\n",
       "      <td>1</td>\n",
       "      <td>1</td>\n",
       "      <td>3777</td>\n",
       "      <td>1282</td>\n",
       "    </tr>\n",
       "    <tr>\n",
       "      <th>4</th>\n",
       "      <td>1</td>\n",
       "      <td>1</td>\n",
       "      <td>4177</td>\n",
       "      <td>1590</td>\n",
       "    </tr>\n",
       "  </tbody>\n",
       "</table>\n",
       "</div>"
      ],
      "text/plain": [
       "   Gender  Age Range  Head Size(cm^3)  Brain Weight(grams)\n",
       "0       1          1             4512                 1530\n",
       "1       1          1             3738                 1297\n",
       "2       1          1             4261                 1335\n",
       "3       1          1             3777                 1282\n",
       "4       1          1             4177                 1590"
      ]
     },
     "execution_count": 47,
     "metadata": {},
     "output_type": "execute_result"
    }
   ],
   "source": [
    "df2 = pd.read_csv('https://raw.githubusercontent.com/nagamounika5/Datasets/master/headbrain.csv')\n",
    "df2.head()"
   ]
  },
  {
   "cell_type": "code",
   "execution_count": 48,
   "metadata": {},
   "outputs": [],
   "source": [
    "# men --> 4000 --> 1500\n",
    "# women -->4000 --> 1450"
   ]
  },
  {
   "cell_type": "code",
   "execution_count": 49,
   "metadata": {},
   "outputs": [
    {
     "data": {
      "text/plain": [
       "Gender                 0\n",
       "Age Range              0\n",
       "Head Size(cm^3)        0\n",
       "Brain Weight(grams)    0\n",
       "dtype: int64"
      ]
     },
     "execution_count": 49,
     "metadata": {},
     "output_type": "execute_result"
    }
   ],
   "source": [
    "df2.isnull().sum()"
   ]
  },
  {
   "cell_type": "code",
   "execution_count": 51,
   "metadata": {},
   "outputs": [
    {
     "data": {
      "text/plain": [
       "(237, 4)"
      ]
     },
     "execution_count": 51,
     "metadata": {},
     "output_type": "execute_result"
    }
   ],
   "source": [
    "df2.shape"
   ]
  },
  {
   "cell_type": "code",
   "execution_count": 69,
   "metadata": {},
   "outputs": [],
   "source": [
    "X = df2[['Gender','Age Range','Head Size(cm^3)']]\n",
    "Y = df2[['Brain Weight(grams)']]"
   ]
  },
  {
   "cell_type": "code",
   "execution_count": 70,
   "metadata": {},
   "outputs": [
    {
     "data": {
      "text/html": [
       "<div>\n",
       "<style scoped>\n",
       "    .dataframe tbody tr th:only-of-type {\n",
       "        vertical-align: middle;\n",
       "    }\n",
       "\n",
       "    .dataframe tbody tr th {\n",
       "        vertical-align: top;\n",
       "    }\n",
       "\n",
       "    .dataframe thead th {\n",
       "        text-align: right;\n",
       "    }\n",
       "</style>\n",
       "<table border=\"1\" class=\"dataframe\">\n",
       "  <thead>\n",
       "    <tr style=\"text-align: right;\">\n",
       "      <th></th>\n",
       "      <th>Gender</th>\n",
       "      <th>Age Range</th>\n",
       "      <th>Head Size(cm^3)</th>\n",
       "    </tr>\n",
       "  </thead>\n",
       "  <tbody>\n",
       "    <tr>\n",
       "      <th>0</th>\n",
       "      <td>1</td>\n",
       "      <td>1</td>\n",
       "      <td>4512</td>\n",
       "    </tr>\n",
       "    <tr>\n",
       "      <th>1</th>\n",
       "      <td>1</td>\n",
       "      <td>1</td>\n",
       "      <td>3738</td>\n",
       "    </tr>\n",
       "    <tr>\n",
       "      <th>2</th>\n",
       "      <td>1</td>\n",
       "      <td>1</td>\n",
       "      <td>4261</td>\n",
       "    </tr>\n",
       "    <tr>\n",
       "      <th>3</th>\n",
       "      <td>1</td>\n",
       "      <td>1</td>\n",
       "      <td>3777</td>\n",
       "    </tr>\n",
       "    <tr>\n",
       "      <th>4</th>\n",
       "      <td>1</td>\n",
       "      <td>1</td>\n",
       "      <td>4177</td>\n",
       "    </tr>\n",
       "  </tbody>\n",
       "</table>\n",
       "</div>"
      ],
      "text/plain": [
       "   Gender  Age Range  Head Size(cm^3)\n",
       "0       1          1             4512\n",
       "1       1          1             3738\n",
       "2       1          1             4261\n",
       "3       1          1             3777\n",
       "4       1          1             4177"
      ]
     },
     "execution_count": 70,
     "metadata": {},
     "output_type": "execute_result"
    }
   ],
   "source": [
    "X.head()"
   ]
  },
  {
   "cell_type": "code",
   "execution_count": 71,
   "metadata": {},
   "outputs": [
    {
     "data": {
      "text/html": [
       "<div>\n",
       "<style scoped>\n",
       "    .dataframe tbody tr th:only-of-type {\n",
       "        vertical-align: middle;\n",
       "    }\n",
       "\n",
       "    .dataframe tbody tr th {\n",
       "        vertical-align: top;\n",
       "    }\n",
       "\n",
       "    .dataframe thead th {\n",
       "        text-align: right;\n",
       "    }\n",
       "</style>\n",
       "<table border=\"1\" class=\"dataframe\">\n",
       "  <thead>\n",
       "    <tr style=\"text-align: right;\">\n",
       "      <th></th>\n",
       "      <th>Brain Weight(grams)</th>\n",
       "    </tr>\n",
       "  </thead>\n",
       "  <tbody>\n",
       "    <tr>\n",
       "      <th>0</th>\n",
       "      <td>1530</td>\n",
       "    </tr>\n",
       "    <tr>\n",
       "      <th>1</th>\n",
       "      <td>1297</td>\n",
       "    </tr>\n",
       "    <tr>\n",
       "      <th>2</th>\n",
       "      <td>1335</td>\n",
       "    </tr>\n",
       "    <tr>\n",
       "      <th>3</th>\n",
       "      <td>1282</td>\n",
       "    </tr>\n",
       "    <tr>\n",
       "      <th>4</th>\n",
       "      <td>1590</td>\n",
       "    </tr>\n",
       "  </tbody>\n",
       "</table>\n",
       "</div>"
      ],
      "text/plain": [
       "   Brain Weight(grams)\n",
       "0                 1530\n",
       "1                 1297\n",
       "2                 1335\n",
       "3                 1282\n",
       "4                 1590"
      ]
     },
     "execution_count": 71,
     "metadata": {},
     "output_type": "execute_result"
    }
   ],
   "source": [
    "Y[0:5]"
   ]
  },
  {
   "cell_type": "code",
   "execution_count": 72,
   "metadata": {},
   "outputs": [],
   "source": [
    "from sklearn.linear_model import LinearRegression"
   ]
  },
  {
   "cell_type": "code",
   "execution_count": 73,
   "metadata": {},
   "outputs": [],
   "source": [
    "lin_reg2 = LinearRegression()"
   ]
  },
  {
   "cell_type": "code",
   "execution_count": 74,
   "metadata": {},
   "outputs": [
    {
     "data": {
      "text/plain": [
       "LinearRegression(copy_X=True, fit_intercept=True, n_jobs=None, normalize=False)"
      ]
     },
     "execution_count": 74,
     "metadata": {},
     "output_type": "execute_result"
    }
   ],
   "source": [
    "lin_reg2.fit(X,Y)"
   ]
  },
  {
   "cell_type": "code",
   "execution_count": 75,
   "metadata": {
    "collapsed": true
   },
   "outputs": [
    {
     "data": {
      "text/plain": [
       "array([[1519.93452386],\n",
       "       [1330.91463003],\n",
       "       [1458.63737483],\n",
       "       [1340.43888825],\n",
       "       [1438.1235879 ],\n",
       "       [1293.55023241],\n",
       "       [1342.39258224],\n",
       "       [1287.20072693],\n",
       "       [1300.38816139],\n",
       "       [1390.50229682],\n",
       "       [1258.87216403],\n",
       "       [1393.18862606],\n",
       "       [1306.98187861],\n",
       "       [1445.69415212],\n",
       "       [1353.87053445],\n",
       "       [1364.61585141],\n",
       "       [1272.05959849],\n",
       "       [1264.48903426],\n",
       "       [1173.88647533],\n",
       "       [1498.44388994],\n",
       "       [1365.10427491],\n",
       "       [1406.13184876],\n",
       "       [1347.03260547],\n",
       "       [1324.07670105],\n",
       "       [1577.32428491],\n",
       "       [1498.19967819],\n",
       "       [1403.68973127],\n",
       "       [1400.27076679],\n",
       "       [1261.55849328],\n",
       "       [1437.6351644 ],\n",
       "       [1342.88100574],\n",
       "       [1345.07891148],\n",
       "       [1420.05191847],\n",
       "       [1434.21619992],\n",
       "       [1433.48356467],\n",
       "       [1349.47472296],\n",
       "       [1279.38595096],\n",
       "       [1333.35674752],\n",
       "       [1232.25308338],\n",
       "       [1270.83853974],\n",
       "       [1385.61806184],\n",
       "       [1274.01329248],\n",
       "       [1471.82480928],\n",
       "       [1347.03260547],\n",
       "       [1361.44109867],\n",
       "       [1403.20130777],\n",
       "       [1470.11532704],\n",
       "       [1190.98129777],\n",
       "       [1307.22609036],\n",
       "       [1307.95872561],\n",
       "       [1368.27902765],\n",
       "       [1344.34627623],\n",
       "       [1460.83528057],\n",
       "       [1410.2834485 ],\n",
       "       [1397.82864929],\n",
       "       [1262.53534027],\n",
       "       [1368.0348159 ],\n",
       "       [1411.46881323],\n",
       "       [1355.05589918],\n",
       "       [1290.09557391],\n",
       "       [1338.20528849],\n",
       "       [1222.69313114],\n",
       "       [1478.87125599],\n",
       "       [1432.7152354 ],\n",
       "       [1304.25985536],\n",
       "       [1207.0635792 ],\n",
       "       [1228.06578963],\n",
       "       [1217.56468441],\n",
       "       [1475.940715  ],\n",
       "       [1463.97433929],\n",
       "       [1372.88335686],\n",
       "       [1336.25159449],\n",
       "       [1400.47928452],\n",
       "       [1384.84973257],\n",
       "       [1327.94839502],\n",
       "       [1222.93734289],\n",
       "       [1262.98806975],\n",
       "       [1215.12256692],\n",
       "       [1353.83484043],\n",
       "       [1330.63472426],\n",
       "       [1329.41366552],\n",
       "       [1335.763171  ],\n",
       "       [1187.52663927],\n",
       "       [1267.62809299],\n",
       "       [1354.56747568],\n",
       "       [1334.2979005 ],\n",
       "       [1202.17934422],\n",
       "       [1225.86788388],\n",
       "       [1250.2890588 ],\n",
       "       [1348.2179702 ],\n",
       "       [1410.00354273],\n",
       "       [1204.37724996],\n",
       "       [1288.38609166],\n",
       "       [1346.26427621],\n",
       "       [1297.66613813],\n",
       "       [1316.95886631],\n",
       "       [1242.23007108],\n",
       "       [1246.38167081],\n",
       "       [1286.43239767],\n",
       "       [1243.45112982],\n",
       "       [1247.60272956],\n",
       "       [1330.39051251],\n",
       "       [1340.64740598],\n",
       "       [1288.14187991],\n",
       "       [1277.6407747 ],\n",
       "       [1284.96712717],\n",
       "       [1378.74443884],\n",
       "       [1224.15840164],\n",
       "       [1350.41587594],\n",
       "       [1475.940715  ],\n",
       "       [1296.44507938],\n",
       "       [1254.68487028],\n",
       "       [1266.16282249],\n",
       "       [1271.77969272],\n",
       "       [1220.25101365],\n",
       "       [1248.57957655],\n",
       "       [1270.55863398],\n",
       "       [1346.50848796],\n",
       "       [1398.76980227],\n",
       "       [1355.54432268],\n",
       "       [1224.15840164],\n",
       "       [1419.7720127 ],\n",
       "       [1490.10499645],\n",
       "       [1276.6639277 ],\n",
       "       [1383.38446208],\n",
       "       [1317.69150156],\n",
       "       [1222.20470765],\n",
       "       [1157.00017063],\n",
       "       [1383.87288558],\n",
       "       [1268.84915173],\n",
       "       [1289.36293866],\n",
       "       [1256.63856428],\n",
       "       [1382.16340333],\n",
       "       [1289.60715041],\n",
       "       [1093.22082534],\n",
       "       [1234.61942809],\n",
       "       [1321.31459904],\n",
       "       [1201.89505371],\n",
       "       [1153.54112738],\n",
       "       [1169.90331457],\n",
       "       [1267.83222597],\n",
       "       [1257.57533251],\n",
       "       [1170.88016157],\n",
       "       [1235.10785159],\n",
       "       [1348.66631494],\n",
       "       [1347.68946794],\n",
       "       [1226.07201687],\n",
       "       [1193.34764249],\n",
       "       [1238.28260433],\n",
       "       [1150.12216289],\n",
       "       [1229.00255786],\n",
       "       [1207.02350044],\n",
       "       [1294.20709488],\n",
       "       [1235.35206334],\n",
       "       [1336.45572748],\n",
       "       [1166.24013833],\n",
       "       [1196.27818348],\n",
       "       [1300.80081211],\n",
       "       [1373.8201251 ],\n",
       "       [1193.83606599],\n",
       "       [1145.48213966],\n",
       "       [1318.38405805],\n",
       "       [1261.971144  ],\n",
       "       [1199.45293622],\n",
       "       [1249.51634479],\n",
       "       [1148.1684689 ],\n",
       "       [1188.70761925],\n",
       "       [1215.57091166],\n",
       "       [1324.24514003],\n",
       "       [1266.36695548],\n",
       "       [1163.55380909],\n",
       "       [1250.98161528],\n",
       "       [1267.58801423],\n",
       "       [1304.95241184],\n",
       "       [1278.33333119],\n",
       "       [1177.71809054],\n",
       "       [1276.86806069],\n",
       "       [1265.14589673],\n",
       "       [1367.22640787],\n",
       "       [1258.30796776],\n",
       "       [1296.40500062],\n",
       "       [1166.72856183],\n",
       "       [1373.57591335],\n",
       "       [1172.34543206],\n",
       "       [1245.12053331],\n",
       "       [1284.92704841],\n",
       "       [1282.48493092],\n",
       "       [1121.02527073],\n",
       "       [1200.3940892 ],\n",
       "       [1275.85551968],\n",
       "       [1144.46959864],\n",
       "       [1190.62561923],\n",
       "       [1104.17466004],\n",
       "       [1271.94813169],\n",
       "       [1239.95639256],\n",
       "       [1048.73859298],\n",
       "       [1118.33894149],\n",
       "       [1188.18350174],\n",
       "       [1224.57105236],\n",
       "       [1176.70554953],\n",
       "       [1192.09088972],\n",
       "       [1159.85493884],\n",
       "       [1171.82131455],\n",
       "       [1311.99885855],\n",
       "       [1120.53684723],\n",
       "       [1273.16919044],\n",
       "       [1202.34778319],\n",
       "       [1347.16535043],\n",
       "       [1181.83399626],\n",
       "       [1035.79537028],\n",
       "       [1088.78931984],\n",
       "       [1245.81747454],\n",
       "       [1089.27774334],\n",
       "       [1101.48833079],\n",
       "       [1247.28274503],\n",
       "       [1142.2716929 ],\n",
       "       [1164.25075032],\n",
       "       [1145.69065739],\n",
       "       [1169.6234088 ],\n",
       "       [1199.17303045],\n",
       "       [1197.21933646],\n",
       "       [1070.96186215],\n",
       "       [1284.8913544 ],\n",
       "       [1221.15208787],\n",
       "       [1262.17966173],\n",
       "       [1279.03027242],\n",
       "       [1173.53079679],\n",
       "       [1398.205606  ],\n",
       "       [1283.67029565],\n",
       "       [1157.41282135],\n",
       "       [1271.45970819],\n",
       "       [1276.09973143],\n",
       "       [1156.43597435],\n",
       "       [1200.3940892 ],\n",
       "       [1161.07599758],\n",
       "       [1190.13719573],\n",
       "       [1199.66145395]])"
      ]
     },
     "execution_count": 75,
     "metadata": {},
     "output_type": "execute_result"
    }
   ],
   "source": [
    "y_prediction3 = lin_reg2.predict(X)\n",
    "y_prediction3"
   ]
  },
  {
   "cell_type": "code",
   "execution_count": 76,
   "metadata": {
    "collapsed": true
   },
   "outputs": [
    {
     "data": {
      "text/plain": [
       "array([[1519.93452386],\n",
       "       [1330.91463003],\n",
       "       [1458.63737483],\n",
       "       [1340.43888825],\n",
       "       [1438.1235879 ]])"
      ]
     },
     "execution_count": 76,
     "metadata": {},
     "output_type": "execute_result"
    }
   ],
   "source": [
    "y_prediction3[:5]"
   ]
  },
  {
   "cell_type": "code",
   "execution_count": 77,
   "metadata": {
    "collapsed": true
   },
   "outputs": [
    {
     "data": {
      "text/html": [
       "<div>\n",
       "<style scoped>\n",
       "    .dataframe tbody tr th:only-of-type {\n",
       "        vertical-align: middle;\n",
       "    }\n",
       "\n",
       "    .dataframe tbody tr th {\n",
       "        vertical-align: top;\n",
       "    }\n",
       "\n",
       "    .dataframe thead th {\n",
       "        text-align: right;\n",
       "    }\n",
       "</style>\n",
       "<table border=\"1\" class=\"dataframe\">\n",
       "  <thead>\n",
       "    <tr style=\"text-align: right;\">\n",
       "      <th></th>\n",
       "      <th>Gender</th>\n",
       "      <th>Age Range</th>\n",
       "      <th>Head Size(cm^3)</th>\n",
       "    </tr>\n",
       "  </thead>\n",
       "  <tbody>\n",
       "    <tr>\n",
       "      <th>0</th>\n",
       "      <td>1</td>\n",
       "      <td>1</td>\n",
       "      <td>4512</td>\n",
       "    </tr>\n",
       "    <tr>\n",
       "      <th>1</th>\n",
       "      <td>1</td>\n",
       "      <td>1</td>\n",
       "      <td>3738</td>\n",
       "    </tr>\n",
       "    <tr>\n",
       "      <th>2</th>\n",
       "      <td>1</td>\n",
       "      <td>1</td>\n",
       "      <td>4261</td>\n",
       "    </tr>\n",
       "    <tr>\n",
       "      <th>3</th>\n",
       "      <td>1</td>\n",
       "      <td>1</td>\n",
       "      <td>3777</td>\n",
       "    </tr>\n",
       "    <tr>\n",
       "      <th>4</th>\n",
       "      <td>1</td>\n",
       "      <td>1</td>\n",
       "      <td>4177</td>\n",
       "    </tr>\n",
       "  </tbody>\n",
       "</table>\n",
       "</div>"
      ],
      "text/plain": [
       "   Gender  Age Range  Head Size(cm^3)\n",
       "0       1          1             4512\n",
       "1       1          1             3738\n",
       "2       1          1             4261\n",
       "3       1          1             3777\n",
       "4       1          1             4177"
      ]
     },
     "execution_count": 77,
     "metadata": {},
     "output_type": "execute_result"
    }
   ],
   "source": [
    "X.head()"
   ]
  },
  {
   "cell_type": "code",
   "execution_count": 78,
   "metadata": {
    "collapsed": true
   },
   "outputs": [
    {
     "data": {
      "text/html": [
       "<div>\n",
       "<style scoped>\n",
       "    .dataframe tbody tr th:only-of-type {\n",
       "        vertical-align: middle;\n",
       "    }\n",
       "\n",
       "    .dataframe tbody tr th {\n",
       "        vertical-align: top;\n",
       "    }\n",
       "\n",
       "    .dataframe thead th {\n",
       "        text-align: right;\n",
       "    }\n",
       "</style>\n",
       "<table border=\"1\" class=\"dataframe\">\n",
       "  <thead>\n",
       "    <tr style=\"text-align: right;\">\n",
       "      <th></th>\n",
       "      <th>Brain Weight(grams)</th>\n",
       "    </tr>\n",
       "  </thead>\n",
       "  <tbody>\n",
       "    <tr>\n",
       "      <th>0</th>\n",
       "      <td>1530</td>\n",
       "    </tr>\n",
       "    <tr>\n",
       "      <th>1</th>\n",
       "      <td>1297</td>\n",
       "    </tr>\n",
       "    <tr>\n",
       "      <th>2</th>\n",
       "      <td>1335</td>\n",
       "    </tr>\n",
       "    <tr>\n",
       "      <th>3</th>\n",
       "      <td>1282</td>\n",
       "    </tr>\n",
       "    <tr>\n",
       "      <th>4</th>\n",
       "      <td>1590</td>\n",
       "    </tr>\n",
       "  </tbody>\n",
       "</table>\n",
       "</div>"
      ],
      "text/plain": [
       "   Brain Weight(grams)\n",
       "0                 1530\n",
       "1                 1297\n",
       "2                 1335\n",
       "3                 1282\n",
       "4                 1590"
      ]
     },
     "execution_count": 78,
     "metadata": {},
     "output_type": "execute_result"
    }
   ],
   "source": [
    "Y[:5]"
   ]
  },
  {
   "cell_type": "code",
   "execution_count": 79,
   "metadata": {},
   "outputs": [
    {
     "data": {
      "text/plain": [
       "array([[1519.93452386]])"
      ]
     },
     "execution_count": 79,
     "metadata": {},
     "output_type": "execute_result"
    }
   ],
   "source": [
    "lin_reg2.predict([[1,1,4512]])"
   ]
  },
  {
   "cell_type": "code",
   "execution_count": null,
   "metadata": {},
   "outputs": [],
   "source": []
  },
  {
   "cell_type": "code",
   "execution_count": null,
   "metadata": {},
   "outputs": [],
   "source": []
  }
 ],
 "metadata": {
  "kernelspec": {
   "display_name": "Python 3",
   "language": "python",
   "name": "python3"
  },
  "language_info": {
   "codemirror_mode": {
    "name": "ipython",
    "version": 3
   },
   "file_extension": ".py",
   "mimetype": "text/x-python",
   "name": "python",
   "nbconvert_exporter": "python",
   "pygments_lexer": "ipython3",
   "version": "3.7.3"
  }
 },
 "nbformat": 4,
 "nbformat_minor": 2
}
